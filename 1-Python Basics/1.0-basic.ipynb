{
 "cells": [
  {
   "cell_type": "markdown",
   "id": "91b8d14e",
   "metadata": {},
   "source": [
    "File Outline: \n",
    "- Single and Multi-line comments\n",
    "- Definition of Syntax and Semantics\n",
    "- Basic Syntax rules in Python \n",
    "- Understanding Semantics in Python \n",
    "- Common Syntax Errors and How to avoid them\n",
    "- Practical Code Examples"
   ]
  },
  {
   "cell_type": "markdown",
   "id": "0b48e754",
   "metadata": {},
   "source": [
    "### Syntax(arrangement) and Semantics(logic) in Python\n",
    "\n",
    "Syntax refers to set of rules that defines the combinations of symbols that are considered to be correctly structured programs in a language.  \n",
    "In simple terms, syntax is about correct arrangement of words and symbols in a code.\n",
    "\n",
    "\n",
    "Semantics refers to the meaning or the intepretation of the symbols, characters and commands in a language. It is about what the code is supposed to do when it runs."
   ]
  },
  {
   "cell_type": "code",
   "execution_count": 1,
   "id": "3be12b2d",
   "metadata": {},
   "outputs": [
    {
     "name": "stdout",
     "output_type": "stream",
     "text": [
      "Alice\n",
      "Bob\n"
     ]
    }
   ],
   "source": [
    "# Basic Syntax rules in Python \n",
    "## Python is case-sensitive\n",
    "\n",
    "name = \"Alice\"\n",
    "Name = \"Bob\"\n",
    "print(name) # This will print \"Alice\"\n",
    "print(Name) # This will print \"Bob\""
   ]
  },
  {
   "cell_type": "markdown",
   "id": "61754f2d",
   "metadata": {},
   "source": [
    "## Indentation Defination \n",
    "\n",
    "Indentation in Python is used to define the structure and hierarchy of the code.Unlike many other programming languages that use braces{} to delimit blocks of code, Python uses indentation to determine the grouping of statements.This means that all the statements within a block must be indented at the same level."
   ]
  },
  {
   "cell_type": "code",
   "execution_count": 2,
   "id": "948f2207",
   "metadata": {},
   "outputs": [
    {
     "name": "stdout",
     "output_type": "stream",
     "text": [
      "You are an adult.\n",
      "This is outside the if-else block.\n"
     ]
    }
   ],
   "source": [
    "## Indentation\n",
    "# Indentation is crucial in Python\n",
    "# Consistent use of spaces (commonly 4 spaces)  or a tab is recommended.\n",
    "\n",
    "age = 22\n",
    "if age >= 18:\n",
    "    print(\"You are an adult.\")\n",
    "else:\n",
    "    print(\"You are a minor.\")\n",
    "    \n",
    "print(\"This is outside the if-else block.\")\n",
    "\n"
   ]
  },
  {
   "cell_type": "code",
   "execution_count": 3,
   "id": "5b82e6ff",
   "metadata": {},
   "outputs": [
    {
     "name": "stdout",
     "output_type": "stream",
     "text": [
      "This is a single line comment\n",
      "This is a very long variable name that needs to be split across multiple lines to make it more readable and maintainable.\n"
     ]
    }
   ],
   "source": [
    "## This is a single line comment \n",
    "print(\"This is a single line comment\") # This is a single line comment\n",
    "# This is a multi-line comment\n",
    "\"\"\"\n",
    "This is a multi-line comment\n",
    "It can span multiple lines.\n",
    "\"\"\"\n",
    "\n",
    "## Line Continuation\n",
    "# In Python, you can use a backslash (\\) to continue a line of code onto the next line.\n",
    "long_variable_name = \"This is a very long variable name that needs to be split across multiple lines\" \\\n",
    "    \" to make it more readable and maintainable.\"   \n",
    "print(long_variable_name)"
   ]
  },
  {
   "cell_type": "code",
   "execution_count": 4,
   "id": "c961f7c0",
   "metadata": {},
   "outputs": [
    {
     "name": "stdout",
     "output_type": "stream",
     "text": [
      "10 20 30\n"
     ]
    }
   ],
   "source": [
    "## Multiple Statements on a Single Line\n",
    "x = 10; y = 20; z = 30\n",
    "print(x, y, z)  # This will print: 10 20 30"
   ]
  },
  {
   "cell_type": "code",
   "execution_count": null,
   "id": "95b58611",
   "metadata": {},
   "outputs": [
    {
     "name": "stdout",
     "output_type": "stream",
     "text": [
      "Alice is an adult.\n",
      "Alice is classified as: Adult\n"
     ]
    }
   ],
   "source": [
    "## Understanding Semantic in Python\n",
    "# Semantic refers to the meaning of the code, which is crucial for understanding how the code behaves.\n",
    "# For example, the following code checks if a person is an adult or a minor based on their age.\n",
    "\n",
    "age = 32\n",
    "name = \"Alice\"\n",
    "if age > 18:\n",
    "    print(f\"{name} is an adult.\")\n",
    "    type_of_person = \"Adult\"\n",
    "else:   \n",
    "    print(f\"{name} is a minor.\")\n",
    "    type_of_person = \"Minor\"    \n",
    "print(f\"{name} is classified as: {type_of_person}\")"
   ]
  },
  {
   "cell_type": "code",
   "execution_count": 6,
   "id": "8f3cdaf0",
   "metadata": {},
   "outputs": [
    {
     "name": "stdout",
     "output_type": "stream",
     "text": [
      "<class 'int'>\n",
      "<class 'str'>\n"
     ]
    }
   ],
   "source": [
    "# Type Inference\n",
    "var = 10\n",
    "print(type(var))  # This will print: <class 'int'>\n",
    "var = \"Hello\"\n",
    "print(type(var))  # This will print: <class 'str'>"
   ]
  }
 ],
 "metadata": {
  "kernelspec": {
   "display_name": "ml_learn",
   "language": "python",
   "name": "python3"
  },
  "language_info": {
   "codemirror_mode": {
    "name": "ipython",
    "version": 3
   },
   "file_extension": ".py",
   "mimetype": "text/x-python",
   "name": "python",
   "nbconvert_exporter": "python",
   "pygments_lexer": "ipython3",
   "version": "3.12.3"
  }
 },
 "nbformat": 4,
 "nbformat_minor": 5
}
